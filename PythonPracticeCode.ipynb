{
 "cells": [
  {
   "cell_type": "code",
   "execution_count": 20,
   "metadata": {},
   "outputs": [
    {
     "name": "stdout",
     "output_type": "stream",
     "text": [
      "6\n",
      "insert 0 5\n",
      "insert 1 10\n",
      "insert 0 6\n",
      "print\n",
      "[6, 5, 10]\n",
      "remove 6\n",
      "append 9\n"
     ]
    }
   ],
   "source": [
    "if __name__ == '__main__':\n",
    "    N = int(input())\n",
    "    string=\"\"\n",
    "    result=[]\n",
    "    while(N):\n",
    "        string=input().split()\n",
    "        if(string[0]=='insert'):\n",
    "            result.insert(int(string[1]),int(string[2]))\n",
    "        elif(string[0]=='append'):\n",
    "            result.append(int(string[1]))\n",
    "        elif(string[0]=='remove'):\n",
    "            result.remove(int(string[1]))\n",
    "        elif(string[0]=='print'):\n",
    "            print(result)\n",
    "        elif(string[0]=='pop'):\n",
    "            result.pop()\n",
    "        elif(string[0]=='sort'):\n",
    "            result.sort()\n",
    "        elif(string[0]=='reverse'):\n",
    "            result=result.reverse()\n",
    "        N=N-1\n"
   ]
  },
  {
   "cell_type": "code",
   "execution_count": 32,
   "metadata": {},
   "outputs": [],
   "source": [
    "result= [1,2]\n",
    "result=tuple(result)"
   ]
  },
  {
   "cell_type": "code",
   "execution_count": 33,
   "metadata": {},
   "outputs": [
    {
     "data": {
      "text/plain": [
       "(1, 2)"
      ]
     },
     "execution_count": 33,
     "metadata": {},
     "output_type": "execute_result"
    }
   ],
   "source": [
    "result"
   ]
  },
  {
   "cell_type": "code",
   "execution_count": null,
   "metadata": {},
   "outputs": [],
   "source": []
  }
 ],
 "metadata": {
  "kernelspec": {
   "display_name": "Python 3",
   "language": "python",
   "name": "python3"
  },
  "language_info": {
   "codemirror_mode": {
    "name": "ipython",
    "version": 3
   },
   "file_extension": ".py",
   "mimetype": "text/x-python",
   "name": "python",
   "nbconvert_exporter": "python",
   "pygments_lexer": "ipython3",
   "version": "3.7.9"
  }
 },
 "nbformat": 4,
 "nbformat_minor": 4
}
